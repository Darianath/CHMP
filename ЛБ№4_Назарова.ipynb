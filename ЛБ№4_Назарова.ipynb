{
  "nbformat": 4,
  "nbformat_minor": 0,
  "metadata": {
    "colab": {
      "provenance": [],
      "authorship_tag": "ABX9TyNu4HYhzh9TOb1rksKzaG74",
      "include_colab_link": true
    },
    "kernelspec": {
      "name": "python3",
      "display_name": "Python 3"
    },
    "language_info": {
      "name": "python"
    }
  },
  "cells": [
    {
      "cell_type": "markdown",
      "metadata": {
        "id": "view-in-github",
        "colab_type": "text"
      },
      "source": [
        "<a href=\"https://colab.research.google.com/github/Darianath/CHMP/blob/main/%D0%9B%D0%91%E2%84%964_%D0%9D%D0%B0%D0%B7%D0%B0%D1%80%D0%BE%D0%B2%D0%B0.ipynb\" target=\"_parent\"><img src=\"https://colab.research.google.com/assets/colab-badge.svg\" alt=\"Open In Colab\"/></a>"
      ]
    },
    {
      "cell_type": "markdown",
      "source": [
        "# Назарова Дар'я\n",
        "Лабараторна робота №4\n",
        "\n",
        "ФІТ 2-8\n",
        "\n",
        "Варівнт 18"
      ],
      "metadata": {
        "id": "0Sa56hSvbuse"
      }
    },
    {
      "cell_type": "markdown",
      "source": [
        "## **1. Знайти матрицю C=AB − BA:**\n",
        "\n",
        "A= [1,1,1,],\n",
        "    [0, 1, 1],\n",
        "    [0, 0, 1];\n",
        "    \n",
        "B = [7, 5, 3],\n",
        "              [0, 7, 5],\n",
        "              [0, 0, 7]"
      ],
      "metadata": {
        "id": "OQ5bvlzTekfv"
      }
    },
    {
      "cell_type": "code",
      "execution_count": null,
      "metadata": {
        "colab": {
          "base_uri": "https://localhost:8080/"
        },
        "id": "xPQF_CrYbgSn",
        "outputId": "a01feb9b-7532-411a-c90f-50bdfa475776"
      },
      "outputs": [
        {
          "output_type": "stream",
          "name": "stdout",
          "text": [
            "Матриця C = AB - BA:\n",
            "[[0 0 0]\n",
            " [0 0 0]\n",
            " [0 0 0]]\n"
          ]
        }
      ],
      "source": [
        "import numpy as np\n",
        "\n",
        "A = np.array([[1, 1, 1],\n",
        "              [0, 1, 1],\n",
        "              [0, 0, 1]])\n",
        "\n",
        "B = np.array([[7, 5, 3],\n",
        "              [0, 7, 5],\n",
        "              [0, 0, 7]])\n",
        "\n",
        "AB = np.dot(A, B)\n",
        "BA = np.dot(B, A)\n",
        "\n",
        "C = AB - BA\n",
        "\n",
        "print(\"Матриця C = AB - BA:\")\n",
        "print(C)\n"
      ]
    },
    {
      "cell_type": "markdown",
      "source": [
        "## **2.Піднести матрицю до степення.**\n",
        "\n",
        " А = [[-1, 0, 2],\n",
        "    [0, 1, 0],\n",
        "    [1, 2, -1]]^2"
      ],
      "metadata": {
        "id": "wc2fuTzEf28O"
      }
    },
    {
      "cell_type": "code",
      "source": [
        "import numpy as np\n",
        "\n",
        "A = np.array([\n",
        "    [-1, 0, 2],\n",
        "    [0, 1, 0],\n",
        "    [1, 2, -1]\n",
        "])\n",
        "n = 2\n",
        "\n",
        "A_power_n = np.linalg.matrix_power(A, n)\n",
        "\n",
        "print(f\"Матриця A у степені {n}:\\n\", A_power_n)\n"
      ],
      "metadata": {
        "colab": {
          "base_uri": "https://localhost:8080/"
        },
        "id": "gmyDiUTXgbae",
        "outputId": "96ca3a9c-cb37-4609-cd4b-e07994b4dd9b"
      },
      "execution_count": null,
      "outputs": [
        {
          "output_type": "stream",
          "name": "stdout",
          "text": [
            "Матриця A у степені 2:\n",
            " [[ 3  4 -4]\n",
            " [ 0  1  0]\n",
            " [-2  0  3]]\n"
          ]
        }
      ]
    },
    {
      "cell_type": "markdown",
      "source": [
        "## **3.Знайти добуток матриць**\n",
        "\n",
        "([3], [1], [-1], [5], [2]) * ([4, 0, -2, 3, 1])\n",
        "\n"
      ],
      "metadata": {
        "id": "XtxjNXtrgaNP"
      }
    },
    {
      "cell_type": "code",
      "source": [
        "import numpy as np\n",
        "\n",
        "a = np.array([[3],\n",
        "              [1],\n",
        "              [-1],\n",
        "              [5],\n",
        "              [2]])\n",
        "\n",
        "b = np.array([[4, 0, -2, 3, 1]])\n",
        "c = np.dot(a, b)\n",
        "print(\"Добуток матриць:\")\n",
        "print(c)"
      ],
      "metadata": {
        "colab": {
          "base_uri": "https://localhost:8080/"
        },
        "id": "0mad_wNMiRfQ",
        "outputId": "9587a94b-2cc0-40e0-bbc3-2e3ce33ddb4d"
      },
      "execution_count": null,
      "outputs": [
        {
          "output_type": "stream",
          "name": "stdout",
          "text": [
            "Добуток матриць:\n",
            "[[ 12   0  -6   9   3]\n",
            " [  4   0  -2   3   1]\n",
            " [ -4   0   2  -3  -1]\n",
            " [ 20   0 -10  15   5]\n",
            " [  8   0  -4   6   2]]\n"
          ]
        }
      ]
    },
    {
      "cell_type": "markdown",
      "source": [
        "## **4.Обчислити визначники**\n",
        "\n",
        "[[0, 2, 0],\n",
        "[3, 4 ,5],\n",
        "[6, 7, 8]]"
      ],
      "metadata": {
        "id": "U-WYAovbyiDS"
      }
    },
    {
      "cell_type": "code",
      "source": [
        "import numpy as np\n",
        "\n",
        "a = np.array([[0, 2, 0], [3, 4 ,5], [6, 7, 8]])\n",
        "a_det = np.linalg.det(a)\n",
        "print(\"Визначник матриці:\")\n",
        "print(a_det.round(2))"
      ],
      "metadata": {
        "colab": {
          "base_uri": "https://localhost:8080/"
        },
        "id": "ePoz6fURzsx6",
        "outputId": "4c1500f3-95e2-4044-a837-e8e4d98eddbc"
      },
      "execution_count": null,
      "outputs": [
        {
          "output_type": "stream",
          "name": "stdout",
          "text": [
            "Визначник матриці:\n",
            "12.0\n"
          ]
        }
      ]
    },
    {
      "cell_type": "markdown",
      "source": [
        "## **5.Обчислити визначники**\n",
        "\n",
        "[[1, 2, 3, 4], [-2, 1, -4, 3], [3, -4, -1, 2], [4, 3, -2, -1]]\n",
        "\n"
      ],
      "metadata": {
        "id": "Q0kfSBVD0eQp"
      }
    },
    {
      "cell_type": "code",
      "source": [
        "import numpy as np\n",
        "\n",
        "a = np.array([[1, 2, 3, 4], [-2, 1, -4, 3], [3, -4, -1, 2], [4, 3, -2, -1]])\n",
        "a_det = np.linalg.det(a)\n",
        "print(\"Визначник матриці:\")\n",
        "print(a_det.round(2))"
      ],
      "metadata": {
        "colab": {
          "base_uri": "https://localhost:8080/"
        },
        "id": "DpRuaoBh1wMh",
        "outputId": "8352dfd6-21e0-4a75-b008-21b9cb18ed8e"
      },
      "execution_count": null,
      "outputs": [
        {
          "output_type": "stream",
          "name": "stdout",
          "text": [
            "Визначник матриці:\n",
            "900.0\n"
          ]
        }
      ]
    },
    {
      "cell_type": "markdown",
      "source": [
        "## 6.Знайти обернену матрицю\n",
        "\n",
        "[[1, 2, 2], [2, 1, -2], [2, -2, 1]]"
      ],
      "metadata": {
        "id": "iBgM64uP2D-J"
      }
    },
    {
      "cell_type": "code",
      "source": [
        "import numpy as np\n",
        "\n",
        "a = np.array([[1, 2, 2], [2, 1, -2], [2, -2, 1]])\n",
        "a_inv = np.linalg.inv(a)\n",
        "print(\"Обернена матриця:\")\n",
        "print(a_inv)"
      ],
      "metadata": {
        "colab": {
          "base_uri": "https://localhost:8080/"
        },
        "id": "ea6LiaJ-3ZuB",
        "outputId": "8269a749-eaf8-4ddc-d8fb-cd15e6270d64"
      },
      "execution_count": null,
      "outputs": [
        {
          "output_type": "stream",
          "name": "stdout",
          "text": [
            "Обернена матриця:\n",
            "[[ 0.11111111  0.22222222  0.22222222]\n",
            " [ 0.22222222  0.11111111 -0.22222222]\n",
            " [ 0.22222222 -0.22222222  0.11111111]]\n"
          ]
        }
      ]
    },
    {
      "cell_type": "markdown",
      "source": [
        "## **7.Визначити ранг матриці**\n",
        "\n",
        "[[1, -1, 3, 4], [0, -1, 2, 1], [1, 1, -1, 2], [2, 3, -5, 3]]"
      ],
      "metadata": {
        "id": "M01DdQ5L4RaI"
      }
    },
    {
      "cell_type": "code",
      "source": [
        "import numpy as np\n",
        "\n",
        "a = np.matrix([[1, -1, 3, 4], [0, -1, 2, 1], [1, 1, -1, 2], [2, 3, -5, 3]])\n",
        "rank = np.linalg.matrix_rank(a)\n",
        "print(\"Ранг матриці:\")\n",
        "print(rank)\n"
      ],
      "metadata": {
        "colab": {
          "base_uri": "https://localhost:8080/"
        },
        "id": "rvWW4bh2AAYV",
        "outputId": "b205df21-7573-406e-bf3d-05eddcdd2f4f"
      },
      "execution_count": null,
      "outputs": [
        {
          "output_type": "stream",
          "name": "stdout",
          "text": [
            "Ранг матриці:\n",
            "3\n"
          ]
        }
      ]
    },
    {
      "cell_type": "markdown",
      "source": [
        "## 8.Розвязати систему лінійних рівнянь методом Крамера, матречним методом (тобто обчислити обернену мартицю) і методом Гауса потім зробити перевірку за допомогою solve() пакету linalg\n",
        "\n",
        "![Снимок экрана 2024-08-20 211241.png](data:image/png;base64,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)"
      ],
      "metadata": {
        "id": "1-qH8tyXFPPA"
      }
    },
    {
      "cell_type": "code",
      "source": [
        "import numpy as np\n",
        "\n",
        "def matrix_method(coefficients, constants):\n",
        "    inverse_matrix = np.linalg.inv(coefficients)\n",
        "    return np.dot(inverse_matrix, constants)\n",
        "\n",
        "def cramer_method(coefficients, constants):\n",
        "    det_coefficients = np.linalg.det(coefficients)\n",
        "    if det_coefficients == 0:\n",
        "        return \"Система не має єдиного розв'язку.\"\n",
        "    solutions = []\n",
        "    for i in range(len(coefficients)):\n",
        "        modified_coefficients = np.copy(coefficients)\n",
        "        modified_coefficients[:, i] = constants\n",
        "        solutions.append(round(np.linalg.det(modified_coefficients) / det_coefficients, 1))\n",
        "    return solutions\n",
        "\n",
        "def gauss_method(a, b):\n",
        "    n = len(b)\n",
        "\n",
        "    for k in range(0, n-1):\n",
        "        for i in range(k+1, n):\n",
        "            if a[i, k] != 0.0:\n",
        "                lam = a[i, k] / a[k, k]\n",
        "                a[i, k+1:n] = a[i, k+1:n] - lam * a[k, k+1:n]\n",
        "                b[i] = b[i] - lam * b[k]\n",
        "                return \"Система не має єдиного розв'язку.\"\n",
        "\n",
        "    x = np.zeros(n)\n",
        "    for k in range(n-1, -1, -1):\n",
        "        x[k] = (b[k] - np.dot(a[k, k+1:n], x[k+1:n])) / a[k, k]\n",
        "\n",
        "    return x\n",
        "\n",
        "def main():\n",
        "    a = np.array([[1, -2, 3],\n",
        "                  [4, 2, -3],\n",
        "                  [3, -3, 5]])\n",
        "\n",
        "    b = np.array([-5, 0, -9])\n",
        "\n",
        "    x_matrix = matrix_method(a, b)\n",
        "    print(\"Матричний метод:\", x_matrix)\n",
        "\n",
        "    x_cramer = cramer_method(a, b)\n",
        "    print(\"Метод Крамера:\", x_cramer)\n",
        "\n",
        "    x_gauss = gauss_method(np.copy(a), np.copy(b))\n",
        "    print(\"Метод Гауса:\", x_gauss)\n",
        "\n",
        "if __name__ == \"__main__\":\n",
        "    main()\n",
        "\n",
        "    x = np.linalg.solve(a, b)\n",
        "print('Перевірка:')\n",
        "print('x =', x.round(1))\n",
        "\n"
      ],
      "metadata": {
        "colab": {
          "base_uri": "https://localhost:8080/"
        },
        "id": "-OnL6zM1E_8e",
        "outputId": "ac2a02af-739d-4ee0-8353-24bcbc2218c4"
      },
      "execution_count": null,
      "outputs": [
        {
          "output_type": "stream",
          "name": "stdout",
          "text": [
            "Матричний метод: [-1.0000000e+00  2.0000000e+00 -8.8817842e-16]\n",
            "Метод Крамера: [-1.0, 2.0, 0.0]\n",
            "Метод Гауса: Система не має єдиного розв'язку.\n",
            "Перевірка:\n",
            "x = [-1.  2. -0.]\n"
          ]
        }
      ]
    },
    {
      "cell_type": "markdown",
      "source": [
        "# ![image.png](data:image/png;base64,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)"
      ],
      "metadata": {
        "id": "Q-iQxWcJG5XI"
      }
    },
    {
      "cell_type": "code",
      "source": [
        "import numpy as np\n",
        "\n",
        "\n",
        "N = int(input(\"Введіть кількість рядків : \"))\n",
        "M = int(input(\"Введіть кількість стовпців : \"))\n",
        "\n",
        "A = np.random.randint(0, 101, (N, M))\n",
        "\n",
        "print(\"Матриця A:\")\n",
        "print(A)\n",
        "\n",
        "total_sum = np.sum(A)\n",
        "print(f\"Сума елементів всієї матриці: {total_sum}\")\n",
        "\n",
        "column_sums = np.sum(A, axis=0)\n",
        "column_ratios = column_sums / total_sum\n",
        "\n",
        "for i, ratio in enumerate(column_ratios):\n",
        "    print(f\"Частка суми елементів стовпця {i+1}: {ratio:.4f}\")"
      ],
      "metadata": {
        "colab": {
          "base_uri": "https://localhost:8080/"
        },
        "id": "iq9JwpgRIaM3",
        "outputId": "da2afd4e-6bed-424d-f184-d3171a27b82a"
      },
      "execution_count": null,
      "outputs": [
        {
          "output_type": "stream",
          "name": "stdout",
          "text": [
            "Введіть кількість рядків : 4\n",
            "Введіть кількість стовпців : 5\n",
            "Матриця A:\n",
            "[[97 71 49 56 64]\n",
            " [89 86 15 21 34]\n",
            " [42  3 90 47 10]\n",
            " [ 6 71  2  3 63]]\n",
            "Сума елементів всієї матриці: 919\n",
            "Частка суми елементів стовпця 1: 0.2546\n",
            "Частка суми елементів стовпця 2: 0.2514\n",
            "Частка суми елементів стовпця 3: 0.1697\n",
            "Частка суми елементів стовпця 4: 0.1382\n",
            "Частка суми елементів стовпця 5: 0.1861\n"
          ]
        }
      ]
    }
  ]
}