{
  "nbformat": 4,
  "nbformat_minor": 0,
  "metadata": {
    "colab": {
      "provenance": [],
      "include_colab_link": true
    },
    "kernelspec": {
      "name": "python3",
      "display_name": "Python 3"
    },
    "language_info": {
      "name": "python"
    }
  },
  "cells": [
    {
      "cell_type": "markdown",
      "metadata": {
        "id": "view-in-github",
        "colab_type": "text"
      },
      "source": [
        "<a href=\"https://colab.research.google.com/github/Darianath/CHMP/blob/main/%D0%9BP_12_%D0%9D%D0%B0%D0%B7%D0%B0%D1%80%D0%BE%D0%B2%D0%B0.ipynb\" target=\"_parent\"><img src=\"https://colab.research.google.com/assets/colab-badge.svg\" alt=\"Open In Colab\"/></a>"
      ]
    },
    {
      "cell_type": "markdown",
      "source": [
        "# Назарова Дар'я\n",
        "Лабораторна робота №12\n",
        "\n",
        "18 варіант\n",
        "ФІТ 2-8\n"
      ],
      "metadata": {
        "id": "pjjERAlNfSwx"
      }
    },
    {
      "cell_type": "markdown",
      "source": [
        "\n",
        "![image.png](data:image/png;base64,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)"
      ],
      "metadata": {
        "id": "6SMPUaqnVExb"
      }
    },
    {
      "cell_type": "markdown",
      "source": [
        "*Завдання* 1\n",
        ". Метод прямокутників (правих, лівих і середніх)"
      ],
      "metadata": {
        "id": "fKQyEy3uv2VX"
      }
    },
    {
      "cell_type": "code",
      "source": [
        "import numpy as np\n",
        "from scipy import integrate\n",
        "\n",
        "# Межі інтегрування\n",
        "a = 1.2\n",
        "b = 2\n",
        "\n",
        "# Визначаємо функцію\n",
        "def f1(x):\n",
        "    return 1 / np.sqrt(0.5 * x + 1.5)\n",
        "\n",
        "# Метод лівих прямокутників\n",
        "def left_rec(f1, a, b, n):\n",
        "    h = (b - a) / n\n",
        "    sum = 0\n",
        "    for i in range(0, n):\n",
        "        sum += f1(a + i * h)\n",
        "    return sum * h\n",
        "\n",
        "print(\"Left rectangle:\", round(left_rec(f1, a, b, 10), 5))\n",
        "\n",
        "# Метод правих прямокутників\n",
        "def right_rec(f1, a, b, n):\n",
        "    h = (b - a) / n\n",
        "    sum = 0\n",
        "    for i in range(1, n + 1):\n",
        "        sum += f1(a + i * h)\n",
        "    return sum * h\n",
        "\n",
        "print(\"Right rectangle:\", round(right_rec(f1, a, b, 10), 5))\n",
        "\n",
        "# Метод середніх прямокутників\n",
        "def aver_rec(f1, a, b, n):\n",
        "    h = (b - a) / n\n",
        "    sum = 0\n",
        "    for i in range(0, n):\n",
        "        sum += f1(a + i * h + h / 2)\n",
        "    return sum * h\n",
        "\n",
        "print(\"Average rectangle:\", round(aver_rec(f1, a, b, 10), 5))\n",
        "\n",
        "# Перевірка методом scipy.integrate.quad\n",
        "v, err = integrate.quad(f1, a, b)\n",
        "print(\"Check using scipy's quad method: \", round(v, 5))\n"
      ],
      "metadata": {
        "colab": {
          "base_uri": "https://localhost:8080/"
        },
        "id": "jzRa6rb3v1Mu",
        "outputId": "2c0c54ed-ee89-4c7c-c4f7-6c4f7089aaae"
      },
      "execution_count": 1,
      "outputs": [
        {
          "output_type": "stream",
          "name": "stdout",
          "text": [
            "Left rectangle: 0.53032\n",
            "Right rectangle: 0.52571\n",
            "Average rectangle: 0.528\n",
            "Check using scipy's quad method:  0.528\n"
          ]
        }
      ]
    },
    {
      "cell_type": "markdown",
      "source": [
        "Завдання 2. Метод Симпсона"
      ],
      "metadata": {
        "id": "r9xzRufQxFRO"
      }
    },
    {
      "cell_type": "code",
      "source": [
        "#Обчислення інтеграла методом Симпсона\n",
        "from scipy import integrate\n",
        "import numpy as np\n",
        "\n",
        "# Задаємо функцію, яку необхідно інтегрувати\n",
        "def f(x):\n",
        "    return  np.log(x**2 + 3) / (2 * x)\n",
        "# Задаємо межі інтегрування та початкову кількість розбиттів\n",
        "a = 1.2\n",
        "b = 2\n",
        "n = 8\n",
        "\n",
        "# Обчислюємо значення інтегралу методом Симпсона\n",
        "def simpson_rule(f, a, b, n):\n",
        "    h = (b - a) / n\n",
        "    integr = f(a) + f(b)\n",
        "    for i in range(1,n):\n",
        "        k = a + i*h\n",
        "        if i%2 == 0:\n",
        "            integr += 2 * f(k)\n",
        "        else:\n",
        "            integr += 4 * f(k)\n",
        "    integr *= h/3\n",
        "    return integr\n",
        "\n",
        "\n",
        "# Виводимо результат\n",
        "print(\"Simpsone method:\", round(simpson_rule(f, a, b, n), 3))\n",
        "\n",
        "v,err = integrate.quad(f,a,b)#Перевірка\n",
        "print(\"Check for the simpsone method= \",round(v, 3))\n"
      ],
      "metadata": {
        "colab": {
          "base_uri": "https://localhost:8080/"
        },
        "id": "FnvcjErXwrQy",
        "outputId": "cad07800-5a5b-4325-ed38-0826f4d020df"
      },
      "execution_count": 6,
      "outputs": [
        {
          "output_type": "stream",
          "name": "stdout",
          "text": [
            "Simpsone method: 0.433\n",
            "Check for the simpsone method=  0.433\n"
          ]
        }
      ]
    },
    {
      "cell_type": "markdown",
      "source": [
        "Завдання 3. Визначити інтеграм методом трапецій"
      ],
      "metadata": {
        "id": "bkVnaWJ6vO8h"
      }
    },
    {
      "cell_type": "code",
      "source": [
        "#Обчислення інтегралу методом трапецій\n",
        "\n",
        "from scipy import integrate\n",
        "\n",
        "# Задаємо функцію, яку необхідно інтегрувати\n",
        "def f(x):\n",
        "    return 1 / np.sqrt(x**2 + 0.6)\n",
        "\n",
        "# Задаємо межі інтегрування та початкову кількість розбиттів\n",
        "a = 3.2\n",
        "b = 4\n",
        "n = 10\n",
        "\n",
        "# Обчислюємо значення інтегралу методом трапецій\n",
        "def trapezoidal_rule(f, a, b, n):\n",
        "    h = (b - a) / n\n",
        "    sum = 0.5 * (f(a) + f(b))\n",
        "    x = a\n",
        "\n",
        "    for i in range(1, n):\n",
        "        x += h\n",
        "        sum += f(x)\n",
        "\n",
        "    integral = h * sum\n",
        "\n",
        "    return integral\n",
        "\n",
        "# Виводимо результат методу трапецій\n",
        "integral = trapezoidal_rule(f, a, b, n)\n",
        "print(\"Trapetzia method result:\", round(integral, 5))\n",
        "\n",
        "# Перевірка за допомогою вбудованої функції\n",
        "v, err = integrate.quad(f, a, b)\n",
        "print(\"Check with SciPy quad method:\", round(v, 5))"
      ],
      "metadata": {
        "colab": {
          "base_uri": "https://localhost:8080/"
        },
        "id": "scjZgZaGxOW5",
        "outputId": "89e9090a-7bd9-40c4-b0e9-b9aded88e166"
      },
      "execution_count": 16,
      "outputs": [
        {
          "output_type": "stream",
          "name": "stdout",
          "text": [
            "Trapetzia method result: 0.21807\n",
            "Check with SciPy quad method: 0.21805\n"
          ]
        }
      ]
    }
  ]
}