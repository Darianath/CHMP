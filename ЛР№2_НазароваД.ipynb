{
  "nbformat": 4,
  "nbformat_minor": 0,
  "metadata": {
    "colab": {
      "provenance": [],
      "authorship_tag": "ABX9TyPJ0QKnEUrABz87j5Lpa0ro",
      "include_colab_link": true
    },
    "kernelspec": {
      "name": "python3",
      "display_name": "Python 3"
    },
    "language_info": {
      "name": "python"
    }
  },
  "cells": [
    {
      "cell_type": "markdown",
      "metadata": {
        "id": "view-in-github",
        "colab_type": "text"
      },
      "source": [
        "<a href=\"https://colab.research.google.com/github/Darianath/CHMP/blob/main/%D0%9B%D0%A0%E2%84%962_%D0%9D%D0%B0%D0%B7%D0%B0%D1%80%D0%BE%D0%B2%D0%B0%D0%94.ipynb\" target=\"_parent\"><img src=\"https://colab.research.google.com/assets/colab-badge.svg\" alt=\"Open In Colab\"/></a>"
      ]
    },
    {
      "cell_type": "markdown",
      "source": [
        "# Лабораторна робота №2\n",
        "# Назарова Дар'я Олександрівна\n",
        "ФІТ 2-8\n",
        "18 варіант\n"
      ],
      "metadata": {
        "id": "3_Fv59Lb20OO"
      }
    },
    {
      "cell_type": "code",
      "source": [
        "import numpy as np\n",
        "from scipy.misc import derivative\n",
        "\n",
        "def f(x):\n",
        "    return 2 * np.power(x, 4) - 8 * np.power(x, 3) - 16 * np.power(x, 2) - 1\n",
        "\n",
        "eps = 0.0001\n",
        "\n",
        "def find_segments():  # відокремлюємо корені\n",
        "    search_range = np.arange(-10, 10, 1)\n",
        "\n",
        "    a = None\n",
        "    previous_x = None\n",
        "    current_x = None\n",
        "    segments = []\n",
        "\n",
        "    for x in search_range:\n",
        "        x = round(x, 4)\n",
        "        current_x = f(x)\n",
        "        if previous_x is not None and previous_x * current_x < 0:\n",
        "            segments.append((a, x))\n",
        "        a = x\n",
        "        previous_x = current_x\n",
        "    return segments\n",
        "\n",
        "segments = find_segments()\n",
        "for a, b in segments:\n",
        "    print(f'Found segment: [{a}, {b}]')\n"
      ],
      "metadata": {
        "colab": {
          "base_uri": "https://localhost:8080/"
        },
        "id": "6A1f1nNk2jhD",
        "outputId": "a62683fb-431c-4d16-f98a-ae254a7585fd"
      },
      "execution_count": null,
      "outputs": [
        {
          "output_type": "stream",
          "name": "stdout",
          "text": [
            "Found segment: [-2, -1]\n",
            "Found segment: [5, 6]\n"
          ]
        }
      ]
    },
    {
      "cell_type": "code",
      "source": [
        "!pip install numdifftools"
      ],
      "metadata": {
        "colab": {
          "base_uri": "https://localhost:8080/"
        },
        "id": "qXTBI9d_z2z5",
        "outputId": "b4150a29-8b45-40b2-efb2-9c905acafb61"
      },
      "execution_count": null,
      "outputs": [
        {
          "output_type": "stream",
          "name": "stdout",
          "text": [
            "Collecting numdifftools\n",
            "  Downloading numdifftools-0.9.41-py2.py3-none-any.whl.metadata (39 kB)\n",
            "Requirement already satisfied: numpy>=1.9 in /usr/local/lib/python3.10/dist-packages (from numdifftools) (1.26.4)\n",
            "Requirement already satisfied: scipy>=0.8 in /usr/local/lib/python3.10/dist-packages (from numdifftools) (1.13.1)\n",
            "Downloading numdifftools-0.9.41-py2.py3-none-any.whl (100 kB)\n",
            "\u001b[?25l   \u001b[90m━━━━━━━━━━━━━━━━━━━━━━━━━━━━━━━━━━━━━━━━\u001b[0m \u001b[32m0.0/100.2 kB\u001b[0m \u001b[31m?\u001b[0m eta \u001b[36m-:--:--\u001b[0m\r\u001b[2K   \u001b[90m━━━━━━━━━━━━━━━━━━━━━━━━━━━━━━━━━━━━━━━━\u001b[0m \u001b[32m100.2/100.2 kB\u001b[0m \u001b[31m3.8 MB/s\u001b[0m eta \u001b[36m0:00:00\u001b[0m\n",
            "\u001b[?25hInstalling collected packages: numdifftools\n",
            "Successfully installed numdifftools-0.9.41\n"
          ]
        }
      ]
    },
    {
      "cell_type": "code",
      "source": [
        "import numpy as np\n",
        "import numdifftools as nd\n",
        "\n",
        "def f(x):\n",
        "    return 2 * pow(x, 4) - 8 * pow(x, 3) - 16 * pow(x, 2) - 1\n",
        "\n",
        "def rec(a, b, eps):  # метод половинного ділення\n",
        "    while abs(a - b) > eps:\n",
        "        mid = (a + b) / 2\n",
        "        if f(a) * f(mid) < 0:\n",
        "            b = mid\n",
        "        else:\n",
        "            a = mid\n",
        "    x = (a + b) / 2\n",
        "    print('x=', round(x, 5), ' - метод половинного ділення')\n",
        "\n",
        "def hord(a, b, eps):  # метод хорд\n",
        "    derivative_f = nd.Derivative(f, n=1)\n",
        "    if f(a) * derivative_f(a) > 0:\n",
        "        x0 = a\n",
        "        xi = b\n",
        "    else:\n",
        "        x0 = b\n",
        "        xi = a\n",
        "\n",
        "    xi_1 = xi - (xi - x0) * f(xi) / (f(xi) - f(x0))\n",
        "    while abs(xi_1 - xi) > eps:\n",
        "        xi = xi_1\n",
        "        den = f(xi) - f(x0)\n",
        "        if den == 0:\n",
        "            print(\"Попередження: знаменник дорівнює нулю. Неможливо продовжити обчислення.\")\n",
        "            return\n",
        "        xi_1 = xi - (xi - x0) * f(xi) / den\n",
        "\n",
        "    print('x=', round(xi_1, 5), ' - Метод Хорд')\n",
        "\n",
        "a = -2\n",
        "b = -1\n",
        "\n",
        "a1 = 5\n",
        "b1 = 6\n",
        "\n",
        "eps = 1e-5\n",
        "\n",
        "print(f'Розв. нелінійного рівняння на відрізку [{a}, {b}]')\n",
        "\n",
        "rec(a, b, eps)\n",
        "hord(a, b, eps)\n",
        "\n",
        "rec(a1, b1, eps)\n",
        "hord(a1, b1, eps)\n"
      ],
      "metadata": {
        "colab": {
          "base_uri": "https://localhost:8080/"
        },
        "id": "zuoaZaYXxP0P",
        "outputId": "42f4f5e5-46fe-4578-fe6f-24d832e6c6c1"
      },
      "execution_count": null,
      "outputs": [
        {
          "output_type": "stream",
          "name": "stdout",
          "text": [
            "Розв. нелінійного рівняння на відрізку [-2, -1]\n",
            "x= -1.49619  - метод половинного ділення\n",
            "Попередження: знаменник дорівнює нулю. Неможливо продовжити обчислення.\n",
            "x= 5.46652  - метод половинного ділення\n",
            "x= 5.46651  - Метод Хорд\n"
          ]
        }
      ]
    }
  ]
}